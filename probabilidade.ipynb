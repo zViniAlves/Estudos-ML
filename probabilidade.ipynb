{
 "cells": [
  {
   "cell_type": "markdown",
   "metadata": {},
   "source": [
    "<a href=\"https://medium.com/turing-talks/turing-talks-15-fundamentos-de-probabilidade-para-machine-learning-73dd3202e4c5\"><strong>Referência</strong></a>"
   ]
  },
  {
   "cell_type": "code",
   "execution_count": 4,
   "metadata": {},
   "outputs": [],
   "source": [
    "# O que é probabilidade?\n",
    "# Número de resultados desejados / Número de resultados possivéis\n",
    "\n",
    "A = {(1,1),(2,2),(3,3),(4,4),(5,5),(6,6)} # Dois dados lançados derem o mesmo resultado\n",
    "B = {(1,1)} # Dois dados lançados derem 1\n",
    "\n",
    "Probabilidade_de_A = 6/36 # 36 é o número de resultados possivéis\n",
    "Probabilidade_de_B = 1/36"
   ]
  },
  {
   "cell_type": "code",
   "execution_count": 5,
   "metadata": {},
   "outputs": [
    {
     "data": {
      "text/plain": [
       "True"
      ]
     },
     "execution_count": 5,
     "metadata": {},
     "output_type": "execute_result"
    }
   ],
   "source": [
    "# Propriedades básicas da probabilidade\n",
    "\n",
    "Probabilidade_de_n_evento = 0\n",
    "Probalidade_do_espaço_amostral = 1\n",
    "\n",
    "Probalidade_do_espaço_amostral == 1 # Probabilidade do número total de resultados sempre igual a 1\n",
    "Probabilidade_de_n_evento >= 0 # Probabilidade de qualquer evento sempre vai ser maior ou igual a zero"
   ]
  },
  {
   "cell_type": "code",
   "execution_count": 6,
   "metadata": {},
   "outputs": [
    {
     "name": "stdout",
     "output_type": "stream",
     "text": [
      "Espaço amostral total: \n",
      " {(3, 4), (4, 3), (3, 1), (5, 4), (4, 6), (5, 1), (2, 2), (1, 6), (2, 5), (1, 3), (6, 2), (6, 5), (4, 2), (4, 5), (3, 3), (5, 6), (3, 6), (5, 3), (2, 4), (1, 2), (2, 1), (1, 5), (6, 1), (6, 4), (3, 2), (4, 1), (3, 5), (5, 2), (4, 4), (5, 5), (1, 1), (1, 4), (2, 3), (2, 6), (6, 6), (6, 3)}\n",
      "Espaço amostral filtrado: \n",
      " {(4, 4), (6, 2), (2, 6), (5, 3), (3, 5)}\n",
      "A probabilidade de uma das faces ser 5, quando a soma dos dados for 8 é: \n",
      " 0.4  ou  2/5\n"
     ]
    }
   ],
   "source": [
    "# Probalidade condicional\n",
    "# A probabilidade de um determinado evento ocorrer com base em uma informação/probabilidade prévia\n",
    "\n",
    "# Exemplo: Probabilidade da face de um de dois dados lançados ser 5, sabendo que a soma é 8\n",
    "\n",
    "espaço_amostral_total = set()\n",
    "for x in range(6):\n",
    "    for y in range(6):\n",
    "        espaço_amostral_total.add((x+1,y+1))\n",
    "\n",
    "print('Espaço amostral total: \\n',espaço_amostral_total)\n",
    "\n",
    "# Filtrando o set de dado apenas com os que somam 8\n",
    "\n",
    "espaço_amostral_filtrado = set()\n",
    "for dados in espaço_amostral_total:\n",
    "    if dados[0] + dados[1] == 8:\n",
    "        espaço_amostral_filtrado.add(dados)\n",
    "\n",
    "print('Espaço amostral filtrado: \\n',espaço_amostral_filtrado)\n",
    "\n",
    "# Calculando probabilidade de uma das faces ser 5, quando a soma dos dados for 8\n",
    "\n",
    "count_eventos = 0\n",
    "for dados in espaço_amostral_filtrado:\n",
    "    if dados[0] == 5 or dados[1] == 5:\n",
    "        count_eventos += 1\n",
    "\n",
    "print('A probabilidade de uma das faces ser 5, quando a soma dos dados for 8 é: \\n',count_eventos/len(espaço_amostral_filtrado),' ou ',f'{count_eventos}/{len(espaço_amostral_filtrado)}')\n"
   ]
  },
  {
   "cell_type": "markdown",
   "metadata": {},
   "source": [
    "<h1> Probabilidade Condicional </h1>\n",
    "\n",
    "<p>A probabilidade condicional é um conceito matemático que envolve dois eventos, A e B, de um mesmo espaço amostral S finito e não vazio</p>\n",
    "\n",
    "<math xmlns=\"http://www.w3.org/1998/Math/MathML\" display=\"block\"><semantics><mrow><mi>P</mi><mo stretchy=\"false\">(</mo><mi>A</mi><mi mathvariant=\"normal\">∣</mi><mi>B</mi><mo stretchy=\"false\">)</mo><mo>=</mo><mfrac><mrow><mi>P</mi><mo stretchy=\"false\">(</mo><mi>A</mi><mo>∩</mo><mi>B</mi><mo stretchy=\"false\">)</mo></mrow><mrow><mi>P</mi><mo stretchy=\"false\">(</mo><mi>B</mi><mo stretchy=\"false\">)</mo></mrow></mfrac></mrow><annotation encoding=\"application/x-tex\">P(A | B) = \\frac{P(A \\cap B)}{P(B)} \n",
    "</annotation></semantics></math>"
   ]
  },
  {
   "cell_type": "markdown",
   "metadata": {},
   "source": [
    "<h2>Notação de probabilidade condicional</h2> <br>\n",
    "\n",
    "P(A|B) = Probabilidade de A acontecer sabendo que B já ocorreu <br>\n",
    "P(A ∩ B) é a probabilidade de A e B acontecerem simultanamente\n",
    "\n",
    "-----------------------------------\n",
    "<strong>Formula da probabilidade condiconal</strong>\n",
    "\n",
    "<p style='text-align:center;'>\n",
    "P(A|B) = P(A ∩ B) / P(B) <br>\n",
    "            ou <br>\n",
    "P(A ∩ B) = P(B) * P(A|B) <br>\n",
    "            ou <br>\n",
    "P(A ∩ B) = P(A) * P(B|A) <br>\n",
    "</p>\n",
    "\n",
    "<img  style='margin-left:auto;margin-right:auto;display:block;' src=https://i.ytimg.com/vi/-TQqnmO9UGo/maxresdefault.jpg width=500px>"
   ]
  },
  {
   "cell_type": "markdown",
   "metadata": {},
   "source": [
    "<h2>Teorema da Probabilidade Total</h2>\n",
    "\n",
    "Nos permitir calcular a probabilidade de um evento a partir de um conjunto de probabilidades que envolvam esse evento. <br>\n",
    "Ex: <br>\n",
    "<strong>Quero descobrir a probabilidade de vencer, porém as informações que tenho são que:</strong>\n",
    "\n",
    "<p style='text-align:center;'>\n",
    "P(Vencer|Ventou) = 0,5 <br>\n",
    "P(Vencer|Não Ventou) = 0,25 <br>\n",
    "P(Ventar) = 0,3 <br>\n",
    "P(Não Ventar) = 0,7 <br>\n",
    "</p>\n",
    "\n",
    "<strong>O teorema é dado pela soma da interceções de determinados eventos(No caso Ventou e Venceu).</strong> <br>\n",
    "Ou seja ficaria algo como:\n",
    "\n",
    "<p style='text-align:center;'>\n",
    "P(Vencer) = P(Vencer ∩ Ventou) + P(Vencer ∩ Não Ventou) <br>\n",
    "ou <br>\n",
    "P(Vencer) = P(Vencer|Ventou) * P(Ventou) + P(Vencer|Não Ventou) * P(Não Ventou)\n",
    "</p>\n",
    "\n",
    "<p style='text-align:center;'>Resultado do problema: <br>\n",
    "<strong style='text-align:center;'>P(Vencer) = 0,5 * 0,3 + 0,25 * 0,7 <br>\n",
    "P(Vencer) = 0,325</strong>\n",
    "</p>\n",
    "\n",
    "<img style='margin-left:auto;margin-right:auto;display:block;' src=https://www.fhybea.com/herramientas/imagenes_articulos/probabilidad-total/total-probability.png width=500px>"
   ]
  },
  {
   "cell_type": "markdown",
   "metadata": {},
   "source": [
    "<h2> Teorema de Bayes </h2>\n",
    "\n",
    "<p>O teorema de bayes é utilizada principalmente para inverter a probabilidade condicional de algo Ex: <br>\n",
    "P(A|B) para P(B|A)</p>\n",
    "\n",
    "<p>Para isto o teorema da bayes utiliza da propria equação da probabilidade condicional, para determinar seu teorema, dizendo que:</p>\n",
    "\n",
    "<p style='text-align:center;'>\n",
    "P(A|B) = P(A ∩ B) / P(B) <br>\n",
    "P(A ∩ B) = P(B) * P(A|B) <br>\n",
    "e <br>\n",
    "P(B|A) = P(A ∩ B) / P(A) <br>\n",
    "P(A ∩ B) = P(A) * P(B|A) <br>\n",
    "</p>\n",
    "\n",
    "<p style='text-align:center;'>ou seja: <br>\n",
    "<strong> P(B) * P(A|B) = P(A) * P(B|A) </strong></p>\n",
    "\n",
    "<p style='text-align:center;'>Simplificando as equação temos que: <br>\n",
    "<strong>P(A|B) = P(A) * P(B|A) / P(B)</strong></p>\n",
    "\n",
    "<img style='margin-left:auto;margin-right:auto;display:block;' src=https://www.fhybea.com/herramientas/imagenes_articulos/teorema-bayes/teorema-bayes.png width=500px><br>\n",
    "<a href=https://medium.com/data-hackers/o-teorema-de-bayes-descomplicado-entenda-e-aplique-na-pr%C3%A1tica-ea3429a407d3>Link auxiliar </a>\n"
   ]
  },
  {
   "cell_type": "markdown",
   "metadata": {},
   "source": [
    "<h2>Eventos Independentes</h2>\n",
    "\n",
    "<p>Dois eventos são independentes quando a ocorrência de um evento não influencia na ocorrência do outro?<br>Matematicamente a igualdade P(A ∩ B) = P(A).P(B) indica independência de A e B.</p>\n",
    "\n",
    "<p><strong>Exemplo<br></strong>Em uma prova de múltipla escolhe existem duas perguntas, a primeira contém 4 alternativas e a segunda contém 3 alternativas. Qual a probabilidade de adivinhar aleatoriamente a resposta certa nas duas perguntas?</p>\n",
    "\n",
    "<p>O ponto chave da questão é entender que acertar na primeira pergunta não influencia no acerto da segunda. Logo, são independentes e</p>\n",
    "\n",
    "<p>P(acertar 1ª ∩ acertar 2ª)= P(acertar 1ª).P(acertar 2ª) = (1/4).(1/3) = 1/12</p>\n",
    "\n",
    "<math xmlns=\"http://www.w3.org/1998/Math/MathML\" display=\"block\"><semantics><mrow><mi>P</mi><mo stretchy=\"false\">(</mo><mi>A</mi><mo>∩</mo><mi>B</mi><mo stretchy=\"false\">)</mo><mo>=</mo><mi>P</mi><mo stretchy=\"false\">(</mo><mi>A</mi><mo stretchy=\"false\">)</mo><mo>⋅</mo><mi>P</mi><mo stretchy=\"false\">(</mo><mi>B</mi><mo stretchy=\"false\">)</mo></mrow><annotation encoding=\"application/x-tex\">P(A \\cap B) = P(A) \\cdot P(B) \n",
    "</annotation></semantics></math>"
   ]
  },
  {
   "cell_type": "markdown",
   "metadata": {},
   "source": [
    "<h1> Variaveis Aletórias </h1>\n",
    "\n",
    "<p>Uma variável aleatória é uma função que associa cada valor do espaço amostral de um experimento aleatório a um número real.<br>\n",
    "Em outras palavras, é uma regra que descreve uma característica quantitativa do experimento.</p>\n",
    "\n",
    "<p>Exemplo:<br>\n",
    "Suponha que lancemos dois dados. O espaço amostral S é dado por:</p>\n",
    "<p style='text-align:center'>S={(1,1),(1,2),(1,3),…,(6,6)}</p>\n",
    "<p>Podemos definir uma VA X como:</p>\n",
    "<p style='text-align:center'><math xmlns=\"http://www.w3.org/1998/Math/MathML\" display=\"block\"><semantics><mrow><mi>X</mi><mo stretchy=\"false\">(</mo><mi>a</mi><mo separator=\"true\">,</mo><mi>b</mi><mo stretchy=\"false\">)</mo><mo>=</mo><mi>max</mi><mo>⁡</mo><mo stretchy=\"false\">(</mo><mi>a</mi><mo separator=\"true\">,</mo><mi>b</mi><mo stretchy=\"false\">)</mo></mrow><annotation encoding=\"application/x-tex\">X(a,b) = \\max(a,b) \n",
    "</annotation></semantics></math></p>\n",
    "<p>Ou seja, associamos a X o maior valor entre os dois números (a e b) obtidos no lançamento dos dados.</p>\n",
    "\n",
    "<p style='text-align:center'>\n",
    "P(X = 1) = P({(1,1)}) = 1/36 <br>\n",
    "P(X = 2) = P({(2,1), (2,2), (1,2)}) = 3/36 <br>\n",
    "P(X = 3) = P({(3,1), (3,2), (3,3), (2,3), (1,3)}) = 5/36 <br>\n",
    "P(X = 4) = P({(4,1), (4,2), (4,3), (4,4), (3,4), (2,4), (1,4)}) = 7/36 <br>\n",
    "</p>\n",
    "\n",
    "<img style='margin-left:auto;margin-right:auto;display:block;' src='https://miro.medium.com/v2/resize:fit:640/format:webp/1*Ucc_Z4Ln31OY_w96GQ1B4w.png' width=500px>\n",
    "\n",
    "<p>Além disso, existem algumas distribuições com características singulares, e que aparecem frequentemente em problemas.</p>\n",
    "\n",
    "<ul> \n",
    "    <li><strong>Valor Esperado/Média</strong> : também conhecida como valor esperado, é o número que representa o valor médio de uma variável aleatória. Ela não necessariamente é o valor mais provável, mas uma medida que estuda a tendência central da variável.\n",
    "    <li><strong>Variância</strong> : é uma medida do espalhamento dos valores da variável aleatória. Ela mensura quão longe os valores da variável estão da média.\n",
    "</ul>"
   ]
  },
  {
   "cell_type": "markdown",
   "metadata": {},
   "source": [
    "<h2> Tipos de Variaveis Aleatórias</h2>\n",
    "\n",
    "<h3> Variaveis Discretas </h3>\n",
    "<ul>\n",
    "    <li>São aquelas que assumem valores específicos e contáveis. Por exemplo, o número de vacas em uma fazenda, o número de carros em um estacionamento ou o resultado de lançar um dado.</li>\n",
    "    <li>Os valores possíveis são distintos e não podem ser subdivididos. Não faz sentido ter “meia vaca” ou “3,5 carros”.</li>\n",
    "    <li>Representam eventos que ocorrem em intervalos discretos, como contagens ou contagens de sucessos.</li>\n",
    "    <li>Exemplos: número de filhos em uma família, número de ligações recebidas em uma hora.</li>\n",
    "</ul>\n",
    "\n",
    "<h3> Variaveis Contínuas </h3>\n",
    "\n",
    "<ul>\n",
    "    <li>São aquelas que podem assumir qualquer valor dentro de um intervalo contínuo.</li>\n",
    "    <li>Os valores possíveis formam um conjunto infinito e podem ser subdivididos em partes menores.</li>\n",
    "    <li>Representam grandezas físicas, como tempo, peso, altura, temperatura, etc.</li>\n",
    "    <li>Exemplos: tempo gasto em uma viagem, altura das pessoas em uma população, temperatura ambiente.</li>\n",
    "</ul>"
   ]
  },
  {
   "cell_type": "markdown",
   "metadata": {},
   "source": [
    "<h2> Valor Esperado e Variância </h2>\n",
    "\n",
    "<h3> Valor Esperado </h3>\n",
    "\n",
    "<p>O valor esperado de uma variável aleatória é uma medida de tendência central e representa a média ponderada dos valores que a variável pode assumir, cada um ponderado pela sua probabilidade <br>\n",
    "A fórmula geral para o valor esperado de uma variável aleatória é: </p>\n",
    "\n",
    "<math xmlns=\"http://www.w3.org/1998/Math/MathML\" display=\"block\"><semantics><mrow><mi>E</mi><mo stretchy=\"false\">(</mo><mi>X</mi><mo stretchy=\"false\">)</mo><mo>=</mo><munder><mo>∑</mo><mi>x</mi></munder><mi>x</mi><mo>⋅</mo><mi>P</mi><mo stretchy=\"false\">(</mo><mi>X</mi><mo>=</mo><mi>x</mi><mo stretchy=\"false\">)</mo></mrow><annotation encoding=\"application/x-tex\">E(X) = \\sum_{x} x \\cdot P(X = x) \n",
    "</annotation></semantics></math>\n",
    "\n",
    "onde:\n",
    "<ul>\n",
    " <li>(E(X)) é o valor esperado.\n",
    " <li>(x) representa cada valor possível da variável aleatória.\n",
    " <li>(P(X = x)) é a probabilidade de a variável aleatória assumir o valor (x)2.\n",
    "</ul>\n",
    "\n",
    "<h3> Variância </h3>\n",
    "\n",
    "<p>A variância é uma medida de dispersão que indica o quanto os valores de um conjunto de dados estão próximos ou distantes da média<br>Valores mais baixos de variância indicam dados mais homogêneos, enquanto valores mais altos indicam maior heterogeneidade.<br>A fórmula da variância para um conjunto de observações é:</p>\n",
    "\n",
    "<math xmlns=\"http://www.w3.org/1998/Math/MathML\" display=\"block\"><semantics><mrow><msup><mi>σ</mi><mn>2</mn></msup><mo>=</mo><mfrac><mn>1</mn><mi>n</mi></mfrac><munderover><mo>∑</mo><mrow><mi>i</mi><mo>=</mo><mn>1</mn></mrow><mi>n</mi></munderover><mo stretchy=\"false\">(</mo><msub><mi>x</mi><mi>i</mi></msub><mo>−</mo><mover accent=\"true\"><mi>x</mi><mo>ˉ</mo></mover><msup><mo stretchy=\"false\">)</mo><mn>2</mn></msup></mrow><annotation encoding=\"application/x-tex\">\\sigma^2 = \\frac{1}{n} \\sum_{i=1}^{n} (x_i - \\bar{x})^2 \n",
    "</annotation></semantics></math>\n",
    "\n",
    "Onde:\n",
    "<ul>\n",
    "<li>(n) é o número total de observações.</li>\n",
    "<li>(x_i) são os valores individuais.</li>\n",
    "<li>(\\bar{x}) é a média dos valores.</li>\n",
    "</ul>\n",
    "\n",
    "<a href=\"https://www.youtube.com/watch?v=v2i6OGJGnsA&ab_channel=ProfessorPossani\">Referência</a>"
   ]
  },
  {
   "cell_type": "markdown",
   "metadata": {},
   "source": [
    "<h2> Variaveis Discretas </h2>\n",
    "\n",
    "<p>Uma variável aleatória é considerada discreta quando seu conjunto de valores possíveis é finito ou infinito enumerável. Em outras palavras, os valores que ela pode assumir podem ser contados.</p>\n",
    "<p>Para uma variável aleatória discreta, a função de probabilidade atribui probabilidades a cada valor possível. Ela nos diz a probabilidade de a variável assumir um determinado valor.</p>\n",
    "\n",
    "<h3> Bernoulli </h3>\n",
    "\n",
    "<p>A distribuição de Bernoulli é um modelo teórico usado para representar uma variável aleatória discreta que só pode resultar em dois eventos mutuamente exclusivos: “sucesso” ou “fracasso”</p>\n",
    "\n",
    "<p>A notação para uma distribuição de Bernoulli é Be(p), onde 0 ≤ p ≤ 1 é a probabilidade de obter sucesso. A função de probabilidade dessa distribuição é:</p>\n",
    "\n",
    "<h3> Binomial </h3>\n",
    "\n",
    "<p> Essa distribuição modela uma série de acontecimentos de Bernoulli.<br>Imagine que você lance uma moeda 10 vezes e deseja saber quantas vezes o resultado é cara. Aqui, lidamos com 10 eventos distribuídos conforme uma variável de Bernoulli. </p>\n",
    "\n",
    "<h3> Multinominal </h3>\n",
    "\n",
    "<p>A distribuição multinomial descreve a probabilidade de obter um número específico de contagens para k resultados diferentes, quando cada resultado tem uma probabilidade fixa de ocorrer<p>\n",
    "\n",
    "<math xmlns=\"http://www.w3.org/1998/Math/MathML\" display=\"block\"><semantics><mrow><mi>P</mi><mo stretchy=\"false\">(</mo><mi>X</mi><mo>=</mo><msub><mi>x</mi><mn>1</mn></msub><mo separator=\"true\">,</mo><mi>X</mi><mo>=</mo><msub><mi>x</mi><mn>2</mn></msub><mo separator=\"true\">,</mo><mo>…</mo><mo separator=\"true\">,</mo><mi>X</mi><mo>=</mo><msub><mi>x</mi><mi>k</mi></msub><mo stretchy=\"false\">)</mo><mo>=</mo><mfrac><mrow><mi>n</mi><mo stretchy=\"false\">!</mo><mo>⋅</mo><mo stretchy=\"false\">(</mo><msubsup><mi>p</mi><mn>1</mn><msub><mi>x</mi><mn>1</mn></msub></msubsup><mo>⋅</mo><msubsup><mi>p</mi><mn>2</mn><msub><mi>x</mi><mn>2</mn></msub></msubsup><mo>⋅</mo><mo>…</mo><mo>⋅</mo><msubsup><mi>p</mi><mi>k</mi><msub><mi>x</mi><mi>k</mi></msub></msubsup><mo stretchy=\"false\">)</mo></mrow><mrow><msub><mi>x</mi><mn>1</mn></msub><mo stretchy=\"false\">!</mo><mo>⋅</mo><msub><mi>x</mi><mn>2</mn></msub><mo stretchy=\"false\">!</mo><mo>⋅</mo><mo>…</mo><mo>⋅</mo><msub><mi>x</mi><mi>k</mi></msub><mo stretchy=\"false\">!</mo></mrow></mfrac></mrow><annotation encoding=\"application/x-tex\">P(X = x_1, X = x_2, \\ldots, X = x_k) = \\frac{n! \\cdot (p_1^{x_1} \\cdot p_2^{x_2} \\cdot \\ldots \\cdot p_k^{x_k})}{x_1! \\cdot x_2! \\cdot \\ldots \\cdot x_k!}\n",
    "</annotation></semantics></math>\n",
    "\n",
    "onde:\n",
    "<ul>\n",
    "    <li><em>n</em> é o número total de observações,</li>\n",
    "    <li><em>k</em> é o número de categorias ou resultados possíveis,</li>\n",
    "    <li><em>x_i</em> representa o número de ocorrências do resultado <em>i</em>,</li>\n",
    "    <li><em>p_i</em> é a probabilidade de ocorrência do resultado <em>i</em>.</li>\n",
    "</ul>"
   ]
  },
  {
   "cell_type": "markdown",
   "metadata": {},
   "source": [
    "<h2> Variaveis Contínuas </h2>\n",
    "\n",
    "<p>Variáveis aleatórias contínuas tem sua distribuição pode ser descrita por uma função, a qual chamamos de função densidade de probabilidade.</p>\n",
    "\n",
    "<h3> Distribuição Uniforme </h3>\n",
    "\n",
    "<p>Como o próprio nome indica, é uma distribuição com probabilidade constante. Ela modela os eventos que tem a característica de ser igualmente prováveis.</p>\n",
    "<p>Na distribuição uniforme, a função densidade de probabilidade é constante dentro do intervalo considerado. A probabilidade de gerar qualquer ponto nesse intervalo é proporcional ao tamanho do intervalo. Por exemplo, se considerarmos um intervalo de 0 a 10, a probabilidade de obter um valor entre 2 e 5 é a mesma que obter um valor entre 5 e 8, pois a distribuição é uniforme nesses intervalos</p>\n",
    "\n",
    "<img style='margin-left:auto;margin-right:auto;display:block;' src=\"https://miro.medium.com/v2/resize:fit:640/format:webp/1*Xci57Zv4e9esxhj4j1Yprw.png\" width=500px>\n",
    "\n",
    "<h3> Distribuição Normal, ou Gaussiana </h3>\n",
    "\n",
    "<p> A distribuição descreve a distribuição de uma variável aleatória contínua, onde a maioria dos dados está centrada em torno da média, seguindo uma forma simétrica em relação a esse valor.</p>\n",
    "<p>Esta assume dois parâmetros, μ e σ², que representam respectivamente a média e a variância. Veja o que acontece quando seus parâmetros são alterados.</p>\n",
    "<p>A curva é definida pelos parâmetros média (μ) e variância (σ)</p>\n",
    "\n",
    "<img style='margin-left:auto;margin-right:auto;display:block;' src=\"https://miro.medium.com/v2/resize:fit:640/format:webp/1*5Du8iRj3WW-8AKK7mROGug.png\" width=500px>\n",
    "\n",
    "<p>Note que ao mudarmos o valor da média, a função é deslocada para a esquerda, isso se deve ao fato de ser centrada na média. Quanto à variância é interessante notar que para baixos valores “espremem” a curva, isso porque os valores de x estão concentrados próximos a média.</p>\n"
   ]
  }
 ],
 "metadata": {
  "kernelspec": {
   "display_name": ".venv",
   "language": "python",
   "name": "python3"
  },
  "language_info": {
   "codemirror_mode": {
    "name": "ipython",
    "version": 3
   },
   "file_extension": ".py",
   "mimetype": "text/x-python",
   "name": "python",
   "nbconvert_exporter": "python",
   "pygments_lexer": "ipython3",
   "version": "3.12.3"
  }
 },
 "nbformat": 4,
 "nbformat_minor": 2
}
