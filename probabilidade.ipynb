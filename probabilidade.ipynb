{
 "cells": [
  {
   "cell_type": "code",
   "execution_count": null,
   "metadata": {},
   "outputs": [],
   "source": [
    "# O que é probabilidade?\n",
    "# Número de resultados desejados / Número de resultados possivéis\n",
    "\n",
    "A = {(1,1),(2,2),(3,3),(4,4),(5,5),(6,6)} # Dois dados lançados derem o mesmo resultado\n",
    "B = {(1,1)} # Dois dados lançados derem 1\n",
    "\n",
    "Probabilidade_de_A = 6/36 # 36 é o número de resultados possivéis\n",
    "Probabilidade_de_B = 1/36"
   ]
  },
  {
   "cell_type": "code",
   "execution_count": null,
   "metadata": {},
   "outputs": [],
   "source": [
    "# Propriedades básicas da probabilidade\n",
    "\n",
    "Probabilidade_de_n_evento = 0\n",
    "Probalidade_do_espaço_amostral = 1\n",
    "\n",
    "Probalidade_do_espaço_amostral == 1 # Probabilidade do número total de resultados sempre igual a 1\n",
    "Probabilidade_de_n_evento >= 0 # Probabilidade de qualquer evento sempre vai ser maior ou igual a zero"
   ]
  },
  {
   "cell_type": "code",
   "execution_count": null,
   "metadata": {},
   "outputs": [],
   "source": [
    "# Probalidade condicional\n",
    "# A probabilidade um determinado evento ocorrer com base em uma informação/probabilidade prévia\n",
    "\n",
    "# Exemplo: Probabilidade da face de um de dois dados lançados ser 5, sabendo que a soma é 8\n",
    "\n",
    "espaço_amostral_total = set()\n",
    "for x in range(6):\n",
    "    for y in range(6):\n",
    "        espaço_amostral_total.add((x+1,y+1))\n",
    "\n",
    "print('Espaço amostral total: \\n',espaço_amostral_total)\n",
    "\n",
    "# Filtrando o set de dado apenas com os que soman 8\n",
    "\n",
    "espaço_amostral_filtrado = set()\n",
    "for dados in espaço_amostral_total:\n",
    "    if dados[0] + dados[1] == 8:\n",
    "        espaço_amostral_filtrado.add(dados)\n",
    "\n",
    "print('Espaço amostral filtrado: \\n',espaço_amostral_filtrado)\n",
    "\n",
    "# Calculando probabilidade de uma das faces ser 5, quando a soma dos dados for 8\n",
    "\n",
    "count_eventos = 0\n",
    "for dados in espaço_amostral_filtrado:\n",
    "    if dados[0] == 5 or dados[1] == 5:\n",
    "        count_eventos += 1\n",
    "\n",
    "print('A probabilidade de uma das faces ser 5, quando a soma dos dados for 8 é: \\n',count_eventos/len(espaço_amostral_filtrado))\n"
   ]
  }
 ],
 "metadata": {
  "kernelspec": {
   "display_name": ".venv",
   "language": "python",
   "name": "python3"
  },
  "language_info": {
   "codemirror_mode": {
    "name": "ipython",
    "version": 3
   },
   "file_extension": ".py",
   "mimetype": "text/x-python",
   "name": "python",
   "nbconvert_exporter": "python",
   "pygments_lexer": "ipython3",
   "version": "3.12.3"
  }
 },
 "nbformat": 4,
 "nbformat_minor": 2
}
