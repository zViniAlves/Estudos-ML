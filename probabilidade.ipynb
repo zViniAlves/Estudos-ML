{
 "cells": [
  {
   "cell_type": "code",
   "execution_count": 4,
   "metadata": {},
   "outputs": [],
   "source": [
    "# O que é probabilidade?\n",
    "# Número de resultados desejados / Número de resultados possivéis\n",
    "\n",
    "A = {(1,1),(2,2),(3,3),(4,4),(5,5),(6,6)} # Dois dados lançados derem o mesmo resultado\n",
    "B = {(1,1)} # Dois dados lançados derem 1\n",
    "\n",
    "Probabilidade_de_A = 6/36 # 36 é o número de resultados possivéis\n",
    "Probabilidade_de_B = 1/36"
   ]
  },
  {
   "cell_type": "code",
   "execution_count": 5,
   "metadata": {},
   "outputs": [
    {
     "data": {
      "text/plain": [
       "True"
      ]
     },
     "execution_count": 5,
     "metadata": {},
     "output_type": "execute_result"
    }
   ],
   "source": [
    "# Propriedades básicas da probabilidade\n",
    "\n",
    "Probabilidade_de_n_evento = 0\n",
    "Probalidade_do_espaço_amostral = 1\n",
    "\n",
    "Probalidade_do_espaço_amostral == 1 # Probabilidade do número total de resultados sempre igual a 1\n",
    "Probabilidade_de_n_evento >= 0 # Probabilidade de qualquer evento sempre vai ser maior ou igual a zero"
   ]
  },
  {
   "cell_type": "code",
   "execution_count": 6,
   "metadata": {},
   "outputs": [
    {
     "name": "stdout",
     "output_type": "stream",
     "text": [
      "Espaço amostral total: \n",
      " {(3, 4), (4, 3), (3, 1), (5, 4), (4, 6), (5, 1), (2, 2), (1, 6), (2, 5), (1, 3), (6, 2), (6, 5), (4, 2), (4, 5), (3, 3), (5, 6), (3, 6), (5, 3), (2, 4), (1, 2), (2, 1), (1, 5), (6, 1), (6, 4), (3, 2), (4, 1), (3, 5), (5, 2), (4, 4), (5, 5), (1, 1), (1, 4), (2, 3), (2, 6), (6, 6), (6, 3)}\n",
      "Espaço amostral filtrado: \n",
      " {(4, 4), (6, 2), (2, 6), (5, 3), (3, 5)}\n",
      "A probabilidade de uma das faces ser 5, quando a soma dos dados for 8 é: \n",
      " 0.4  ou  2/5\n"
     ]
    }
   ],
   "source": [
    "# Probalidade condicional\n",
    "# A probabilidade de um determinado evento ocorrer com base em uma informação/probabilidade prévia\n",
    "\n",
    "# Exemplo: Probabilidade da face de um de dois dados lançados ser 5, sabendo que a soma é 8\n",
    "\n",
    "espaço_amostral_total = set()\n",
    "for x in range(6):\n",
    "    for y in range(6):\n",
    "        espaço_amostral_total.add((x+1,y+1))\n",
    "\n",
    "print('Espaço amostral total: \\n',espaço_amostral_total)\n",
    "\n",
    "# Filtrando o set de dado apenas com os que somam 8\n",
    "\n",
    "espaço_amostral_filtrado = set()\n",
    "for dados in espaço_amostral_total:\n",
    "    if dados[0] + dados[1] == 8:\n",
    "        espaço_amostral_filtrado.add(dados)\n",
    "\n",
    "print('Espaço amostral filtrado: \\n',espaço_amostral_filtrado)\n",
    "\n",
    "# Calculando probabilidade de uma das faces ser 5, quando a soma dos dados for 8\n",
    "\n",
    "count_eventos = 0\n",
    "for dados in espaço_amostral_filtrado:\n",
    "    if dados[0] == 5 or dados[1] == 5:\n",
    "        count_eventos += 1\n",
    "\n",
    "print('A probabilidade de uma das faces ser 5, quando a soma dos dados for 8 é: \\n',count_eventos/len(espaço_amostral_filtrado),' ou ',f'{count_eventos}/{len(espaço_amostral_filtrado)}')\n"
   ]
  },
  {
   "cell_type": "markdown",
   "metadata": {},
   "source": [
    "<h2>Notação de probabilidade condicional</h2> <br>\n",
    "\n",
    "P(A|B) = Probabilidade de A acontecer sabendo que B já ocorreu <br>\n",
    "P(A intercenção B) é a probabilidade de A e B acontecerem simultanamente\n",
    "\n",
    "-----------------------------------\n",
    "<strong>Formula da probabilidade condiconal</strong> <br>\n",
    "\n",
    "P(A|B) = P(A intercenção B) / P(B) <br>\n",
    "            ou <br>\n",
    "P(A intercenção B) = P(B) * P(A|B) <br>\n",
    "            ou <br>\n",
    "P(A intercenção B) = P(A) * P(B|A) <br>\n",
    "\n",
    "\n",
    "<img src=https://i.ytimg.com/vi/-TQqnmO9UGo/maxresdefault.jpg width=500px>"
   ]
  },
  {
   "cell_type": "markdown",
   "metadata": {},
   "source": [
    "<h2>Teorema da Probabilidade Total</h2>\n",
    "\n",
    "Nos permitir calcular a probabilidade de um evento a partir de um conjunto de probabilidades que envolvam esse evento. <br>\n",
    "Ex: <br>\n",
    "<strong>Quero descobrir a probabilidade de vencer, porém as informações que tenho são que:</strong> <br>\n",
    "P(Vencer|Ventou) = 0,5 <br>\n",
    "P(Vencer|Não Ventou) = 0,25 <br>\n",
    "P(Ventar) = 0,3 <br>\n",
    "P(Não Ventar) = 0,7 <br>\n",
    "\n",
    "<strong>O teorema é dado pela soma da interceções de determinados eventos(No caso Ventou e Venceu).</strong> <br>\n",
    "Ou seja ficaria algo como: <br>\n",
    "P(Vencer) = P(Vencer intercenção Ventou) + P(Vencer intercenção Não Ventou) <br>\n",
    "ou <br>\n",
    "P(Vencer) = P(Vencer|Ventou) * P(Ventou) + P(Vencer|Não Ventou) * P(Não Ventou) <br>\n",
    "<br>\n",
    "Resultado do problema: <br>\n",
    "\n",
    "<strong>P(Vencer) = 0,5 * 0,3 + 0,25 * 0,7 <br>\n",
    "P(Vencer) = 0,325</strong>\n",
    "\n",
    "<img src=https://www.fhybea.com/herramientas/imagenes_articulos/probabilidad-total/total-probability.png width=500px>"
   ]
  },
  {
   "cell_type": "markdown",
   "metadata": {},
   "source": [
    "<h2> Teorema de Bayes </h2>\n",
    "\n",
    "O teorema de bayes é utilizada principalmente para inverter a probabilidade condicional de algo Ex: <br>\n",
    "P(A|B) para P(B|A) <br> <br>\n",
    "Para isto o teorema da bayes utiliza da propria equação da probabilidade condicional, para determinar seu teorema, dizendo que: <br>\n",
    "P(A|B) = P(A interferencia B) / P(B) <br>\n",
    "P(A interferencia B) = P(B) * P(A|B) <br>\n",
    "e <br>\n",
    "P(B|A) = P(A interferencia B) / P(A) <br>\n",
    "P(A interferencia B) = P(A) * P(B|A) <br>\n",
    "ou seja <br>\n",
    "<strong> P(B) * P(A|B) = P(A) * P(B|A)</strong> <br> <br>\n",
    "Simplificando as equação temos que: <br>\n",
    "<strong><h4>P(A|B) = P(A) * P(B|A) / P(B) </h4> </strong>\n",
    "<img src=https://www.fhybea.com/herramientas/imagenes_articulos/teorema-bayes/teorema-bayes.png width=500px><br>\n",
    "<a href=https://medium.com/data-hackers/o-teorema-de-bayes-descomplicado-entenda-e-aplique-na-pr%C3%A1tica-ea3429a407d3>Link auxiliar </a>\n"
   ]
  }
 ],
 "metadata": {
  "kernelspec": {
   "display_name": ".venv",
   "language": "python",
   "name": "python3"
  },
  "language_info": {
   "codemirror_mode": {
    "name": "ipython",
    "version": 3
   },
   "file_extension": ".py",
   "mimetype": "text/x-python",
   "name": "python",
   "nbconvert_exporter": "python",
   "pygments_lexer": "ipython3",
   "version": "3.12.3"
  }
 },
 "nbformat": 4,
 "nbformat_minor": 2
}
