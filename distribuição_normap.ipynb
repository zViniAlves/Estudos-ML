{
 "cells": [
  {
   "cell_type": "code",
   "execution_count": 40,
   "metadata": {},
   "outputs": [],
   "source": [
    "import numpy as np\n",
    "from scipy import stats\n",
    "import matplotlib.pyplot as plt"
   ]
  },
  {
   "cell_type": "markdown",
   "metadata": {},
   "source": [
    "<h2> Distribuição Normal/Gaussiana </h2>\n",
    "\n",
    "<p>A distribuição normal/gaussiana, é uma dispersão de dados de forma que os valores estejam simétricos(ou assimétricos) a média desses valores, de forma que:</p>\n",
    "\n",
    "<cite>\n",
    "μ = Média <br>\n",
    "σ = Desvio Padrão\n",
    "</cite>\n",
    "\n",
    "<ul>\n",
    "    <li>(μ -  σ) até (μ + σ) = 68% dos dados\n",
    "    <li>(μ - 2σ) até (μ+ 2σ) = 95% dos dados\n",
    "</ul>\n",
    "\n",
    "<img src=\"https://static.vecteezy.com/system/resources/previews/007/695/519/original/gauss-distribution-standard-normal-distribution-gaussian-bell-graph-curve-business-and-marketing-concept-math-probability-theory-editable-stroke-illustration-isolated-on-white-background-vector.jpg\" width=500px>"
   ]
  },
  {
   "cell_type": "code",
   "execution_count": 41,
   "metadata": {},
   "outputs": [],
   "source": [
    "mu, sigma = 0, 0.1"
   ]
  },
  {
   "cell_type": "code",
   "execution_count": 42,
   "metadata": {},
   "outputs": [],
   "source": [
    "s = np.random.normal(mu, sigma, 1000)"
   ]
  },
  {
   "cell_type": "code",
   "execution_count": 43,
   "metadata": {},
   "outputs": [
    {
     "name": "stdout",
     "output_type": "stream",
     "text": [
      "Média: -0.003132985306117605\n",
      "Desvio padrão: 0.10221777160096768\n"
     ]
    }
   ],
   "source": [
    "print(f\"Média: {np.mean(s)}\")\n",
    "print(f\"Desvio padrão: {np.std(s, ddof=1)}\")"
   ]
  },
  {
   "cell_type": "code",
   "execution_count": 44,
   "metadata": {},
   "outputs": [
    {
     "data": {
      "image/png": "[encoded data removed]",
      "text/plain": [
       "<Figure size 640x480 with 1 Axes>"
      ]
     },
     "metadata": {},
     "output_type": "display_data"
    }
   ],
   "source": [
    "count, bins, _ = plt.hist(s, 30, density=True)\n",
    "plt.show()"
   ]
  },
  {
   "cell_type": "markdown",
   "metadata": {},
   "source": [
    "<p>Para dizer se um conjunto de dados apresenta uma distribuição normal:<p>"
   ]
  },
  {
   "cell_type": "code",
   "execution_count": 45,
   "metadata": {},
   "outputs": [],
   "source": [
    "mu, sigma = 0, 0.1\n",
    "dados = [np.random.normal(mu, sigma, 100)]"
   ]
  },
  {
   "cell_type": "code",
   "execution_count": 46,
   "metadata": {},
   "outputs": [
    {
     "name": "stdout",
     "output_type": "stream",
     "text": [
      "Estatística do teste: 0.983983031318855, p-valor: 0.2676408431624341\n"
     ]
    }
   ],
   "source": [
    "stat, p_valor = stats.shapiro(dados)\n",
    "print(f'Estatística do teste: {stat}, p-valor: {p_valor}')"
   ]
  },
  {
   "cell_type": "code",
   "execution_count": 47,
   "metadata": {},
   "outputs": [
    {
     "name": "stdout",
     "output_type": "stream",
     "text": [
      "Dados são normais\n"
     ]
    }
   ],
   "source": [
    "if p_valor > 0.05:\n",
    "    print('Dados são normais')\n",
    "else:\n",
    "    print('Dados não são normais')"
   ]
  },
  {
   "cell_type": "markdown",
   "metadata": {},
   "source": [
    "<p>Existem também distribuições normais assimétricas, no caso que o a maior parte dos dados se concentra a direita ou a esquerda da média mais os valores de desvio padrão<p>\n",
    "\n",
    "<img src=\"https://image.slidesharecdn.com/aula20-medidasdeassimetria-121028121407-phpapp01/95/aula-20-medidas-de-assimetria-4-638.jpg?cb=1351426557\" width=\"500px\">"
   ]
  }
 ],
 "metadata": {
  "kernelspec": {
   "display_name": ".venv",
   "language": "python",
   "name": "python3"
  },
  "language_info": {
   "codemirror_mode": {
    "name": "ipython",
    "version": 3
   },
   "file_extension": ".py",
   "mimetype": "text/x-python",
   "name": "python",
   "nbconvert_exporter": "python",
   "pygments_lexer": "ipython3",
   "version": "3.12.3"
  }
 },
 "nbformat": 4,
 "nbformat_minor": 2
}
