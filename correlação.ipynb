{
 "cells": [
  {
   "cell_type": "code",
   "execution_count": null,
   "metadata": {},
   "outputs": [],
   "source": [
    "import pandas as pd"
   ]
  },
  {
   "cell_type": "code",
   "execution_count": null,
   "metadata": {},
   "outputs": [],
   "source": [
    "mpg_data = pd.read_csv('auto+mpg/mpg_data.csv',sep=';')"
   ]
  },
  {
   "cell_type": "markdown",
   "metadata": {},
   "source": [
    "<h1> Correlação </h1>\n",
    "\n",
    "<h2> Oque é? </h2>\n",
    "<p> Medida estatística que indica o grau de relacionamento entre duas variáveis. Duas variáveis são vinculadas quando a alteração dos valores de uma variável também altera os valores da outra variável </p>\n",
    "\n",
    "<ul>\n",
    "    <li>Massa corporal e altura\n",
    "    <li>Consumo de combustível e distância percorrida\n",
    "    <li>Número de anúncios e produtos vendidos\n",
    "    <li>Tempo de estudo e desempenho na avaliação\n",
    "</ul>"
   ]
  },
  {
   "cell_type": "markdown",
   "metadata": {},
   "source": [
    "<h2> Coeficiente de Correlação </h2>\n",
    "\n",
    "<p> Existem vários coeficientes de correlação, tanto para variáveis lineares como para não lineares <br> Um coeficiente varia de 1 a -1, seguindo a lógica de que: </p>\n",
    "<cite> Se Coeficiente > 0 então Correlação Positiva <br> Se Coeficiente == 0 então Correlação Nula <br> Se Coeficiente < 0 então Correlação Negativa </cite>\n",
    "<p> Sendo que quanto mais perto de 1 ou -1 maior a correlação </p>"
   ]
  },
  {
   "cell_type": "markdown",
   "metadata": {},
   "source": [
    "<h3> Pearson </h3>\n",
    "\n",
    "<p> Mede o grau da correlação (e a direção dessa correlação — se positiva ou negativa) entre duas variáveis. Este coeficiente, normalmente representado por ρ assume apenas valores entre -1 e 1. </p>"
   ]
  },
  {
   "cell_type": "code",
   "execution_count": null,
   "metadata": {},
   "outputs": [],
   "source": [
    "mpg_data['mpg'].corr((mpg_data['weight']))"
   ]
  },
  {
   "cell_type": "markdown",
   "metadata": {},
   "source": [
    "<h3> Spearman </h3>\n",
    "\n",
    "<p> Indicado para o cálculo da correlação entre variáveis aleatórias x e y relacionadas monotonicamente entre si, mas não necessariamente de maneira linear. Se a relação é linear o método de Pearson é o mais indicado. </p>\n",
    "<p> Postos: Uma solução para lidar com relações não lineares é transformar as variáveis em postos. <br> Os postos representam a posição relativa de cada observação, do menor (posto 1) ao maior (posto n). </p>\n",
    "\n",
    "<ul>\n",
    "    <li> Mede a relação entre os postos de duas variáveis que estão monotonicamente relacionadas.\n",
    "    <li> Monotonicidade significa que, à medida que os postos de uma variável aumentam, os postos da outra variável também aumentam (ou diminuem).\n",
    "</ul>\n",
    "\n",
    "<p> Lembre-se de que a correlação de Spearman é mais adequada quando a relação entre as variáveis não é linear. </p>"
   ]
  },
  {
   "cell_type": "code",
   "execution_count": null,
   "metadata": {},
   "outputs": [],
   "source": [
    "mpg_data['mpg'].corr((mpg_data['weight']),method='spearman')"
   ]
  }
 ],
 "metadata": {
  "kernelspec": {
   "display_name": ".venv",
   "language": "python",
   "name": "python3"
  },
  "language_info": {
   "codemirror_mode": {
    "name": "ipython",
    "version": 3
   },
   "file_extension": ".py",
   "mimetype": "text/x-python",
   "name": "python",
   "nbconvert_exporter": "python",
   "pygments_lexer": "ipython3",
   "version": "3.12.3"
  }
 },
 "nbformat": 4,
 "nbformat_minor": 2
}
