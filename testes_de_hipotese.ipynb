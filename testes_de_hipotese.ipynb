{
 "cells": [
  {
   "cell_type": "code",
   "execution_count": null,
   "metadata": {},
   "outputs": [],
   "source": []
  },
  {
   "cell_type": "markdown",
   "metadata": {},
   "source": [
    "<h1> Hipoteses </h1>\n",
    "\n",
    "<p> Primeiro, um hipótese estatística é uma afirmação sobre um parâmetro populacional, ou seja, a presumir algo tendo como dados um amostra de um todo, partindo de um hipótese nula </p>\n",
    "\n",
    "<ul>\n",
    "    <li>Hipótese nula:  também dada como hipótese inicial é a afirmação prévia sobre determinado conjuntos de dados<br>Exemplo: 35% das pessoas de uma cidade são mulheres\n",
    "    <li>Hipótese alternativa: é um hipótese que contradiz a hipóteses nula<br>Exemplo: 35% das pessoas de uma cidade são homens\n",
    "</ul>\n",
    "\n",
    "<p>Para testara validade da hipótese alternativa coletamos a amostra é cálculos o erro do tipo I e II obtendo uma matriz de confusão</p>\n",
    "\n",
    "<ul>\n",
    "    <li>Erro de tipo I: rejeitar a hipótese nula, quando ela é verdadeira (“falso positivo”)\n",
    "    <li>Erro do tipo II: não rejeitar a hipótese nula, quando ela é falsa (“falso negativo”)\n",
    "</ul>\n",
    "\n",
    "<img src=\"https://miro.medium.com/v2/resize:fit:640/format:webp/1*HzOD7RZFrDTQA7_m5LcYcw.png\" width=500px>\n",
    "<img src=\"https://miro.medium.com/v2/resize:fit:640/format:webp/0*LMA-fw1QYdN3yL3o\" width=500px>"
   ]
  }
 ],
 "metadata": {
  "language_info": {
   "name": "python"
  }
 },
 "nbformat": 4,
 "nbformat_minor": 2
}
