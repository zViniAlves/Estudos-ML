{
 "cells": [
  {
   "cell_type": "code",
   "execution_count": null,
   "metadata": {},
   "outputs": [],
   "source": [
    "import numpy as np\n",
    "from scipy.stats import norm\n",
    "from scipy.stats import ttest_1samp\n",
    "from scipy.stats import f_oneway"
   ]
  },
  {
   "cell_type": "markdown",
   "metadata": {},
   "source": [
    "<h1> Hipoteses </h1>\n",
    "\n",
    "<p>Simplificando a definição, o teste de hipóteses tem por objetivo verificar se é possível rejeitar uma determinada hipótese estatística, que denotamos por hipótese nula.</p>\n",
    "<p> Primeiro, um hipótese estatística é uma afirmação sobre um parâmetro populacional, ou seja, a presumir algo tendo como dados um amostra de um todo, partindo de um hipótese nula </p>\n",
    "\n",
    "<ul>\n",
    "    <li>Hipótese nula:  também dada como hipótese inicial é a afirmação prévia sobre determinado conjuntos de dados<br>Exemplo: 35% das pessoas de uma cidade são mulheres\n",
    "    <li>Hipótese alternativa: é um hipótese que contradiz a hipóteses nula<br>Exemplo: 35% das pessoas de uma cidade são homens\n",
    "</ul>\n",
    "\n",
    "<p>Para testara validade da hipótese alternativa coletamos a amostra é cálculos o erro do tipo I e II obtendo uma matriz de confusão</p>\n",
    "\n",
    "<ul>\n",
    "    <li>Erro de tipo I: rejeitar a hipótese nula, quando ela é verdadeira (“falso positivo”)\n",
    "    <li>Erro do tipo II: não rejeitar a hipótese nula, quando ela é falsa (“falso negativo”)\n",
    "</ul>\n",
    "\n",
    "<img src=\"https://miro.medium.com/v2/resize:fit:640/format:webp/1*HzOD7RZFrDTQA7_m5LcYcw.png\" width=500px>\n",
    "<img src=\"https://miro.medium.com/v2/resize:fit:640/format:webp/0*LMA-fw1QYdN3yL3o\" width=500px>"
   ]
  },
  {
   "cell_type": "markdown",
   "metadata": {},
   "source": [
    "<h2> Tipo de Teste de Hipóteses </h2>\n",
    "\n",
    "<ul>\n",
    "    <li>Paramétricos : Fazemos uma suposição sobre a disposição dos dados sobre os quais testamos as hipóteses (isto é, podemos dizer que os dados seguem uma distribuição normal, uniforme, etc.)\n",
    "    <li>Não Paramétricos : Não fazemos suposições sobre a distribuição dos dados\n",
    "</ul>\n",
    "\n",
    "<p>Todos esses testes irão utilizar de do nível de significância e P-Value:</p>\n",
    "\n",
    "<ul>\n",
    "    <li>Nível de Significância :  Define o limite para rejeitar a hipótese nula. Geralmente, usa-se α=0,05 (5%).\n",
    "    <li>P-Value : O valor-p é a probabilidade de obter um resultado tão extremo (ou mais extremo) do que o observado, assumindo que a hipótese nula é verdadeira, se o valor-p for menor que o nível de significância escolhido (geralmente 0,05),rejeitamos a hipótese nula.\n",
    "</ul>"
   ]
  },
  {
   "cell_type": "code",
   "execution_count": null,
   "metadata": {},
   "outputs": [],
   "source": [
    "nivel_significancia = 0.05"
   ]
  },
  {
   "cell_type": "markdown",
   "metadata": {},
   "source": [
    "<h2> Teste Paramétricos </h2>\n",
    "\n",
    "<h3> Z-Test </h3>\n",
    "\n",
    "<p> O Z-test é usado quando queremos comparar a média de uma amostra com a média populacional, ou seja, devemos conhecer o desvio padrão populacional, e a população deve seguir uma distribuição normal </p>\n",
    "\n",
    "<math xmlns=\"http://www.w3.org/1998/Math/MathML\" display=\"block\"><semantics><mrow><mi>z</mi><mo>=</mo><mfrac><mrow><mover accent=\"true\"><mi>x</mi><mo>ˉ</mo></mover><mo>−</mo><msub><mi>μ</mi><mn>0</mn></msub></mrow><mrow><mi>σ</mi><mi mathvariant=\"normal\">/</mi><msqrt><mi>n</mi></msqrt></mrow></mfrac></mrow><annotation encoding=\"application/x-tex\"> z = \\frac{{\\bar{x} - \\mu_0}}{{\\sigma/\\sqrt{n}}} </annotation></semantics></math>\n",
    "\n",
    "Onde:\n",
    "<ul>\n",
    "    <li>σ : Desvio padrão populacional\n",
    "    <li>n : Tamanho da amostra\n",
    "    <li>x- : Média da amostra\n",
    "    <li>μ0 : Média populacional hipotética\n",
    "<ul>\n",
    "\n",
    "<p> Para realizar o teste precisamos calcular o valor-p e comparar com o nível de significância definido </p>"
   ]
  },
  {
   "cell_type": "code",
   "execution_count": null,
   "metadata": {},
   "outputs": [],
   "source": [
    "media_amostral = 7.75\n",
    "media_populacional = 7.5\n",
    "dp_populacional = 0.50\n",
    "n = 15"
   ]
  },
  {
   "cell_type": "code",
   "execution_count": null,
   "metadata": {},
   "outputs": [],
   "source": [
    "z_score = (media_amostral - media_populacional)/(dp_populacional/np.sqrt(n)) "
   ]
  },
  {
   "cell_type": "markdown",
   "metadata": {},
   "source": [
    "<p>Aqui, norm.cdf() é uma função que calcula a distribuição acumulada para uma normal com média dada pelo parâmetro loc e variância dada pelo parâmetro scale. Note, então, que quando quisermos fazer um teste lateral à esquerda, nosso p-valor será dado por norm.cdf(z_score, loc = 0 , scale = 1), enquanto será 1 — norm.cdf(z_score, loc = 0 , scale = 1) quando tivermos um teste lateral à direita.</p>"
   ]
  },
  {
   "cell_type": "code",
   "execution_count": null,
   "metadata": {},
   "outputs": [],
   "source": [
    "p_value = 1 - norm.cdf(z_score, loc = 0, scale = 1)"
   ]
  },
  {
   "cell_type": "code",
   "execution_count": null,
   "metadata": {},
   "outputs": [],
   "source": [
    "if nivel_significancia <= p_value:\n",
    "    print(f\"O valor-p é {round(p_value,4)} e não podemos rejeitar a hipótese nula\")\n",
    "else: \n",
    "    print(f\"O valor-p é {round(p_value,4)} e podemos rejeitar a hipótese nula\")"
   ]
  },
  {
   "cell_type": "markdown",
   "metadata": {},
   "source": [
    "<h3> T-Test </h3>\n",
    "\n",
    "<p>O T-test se assemelha muito a Z-teste, porém ao invés de usarmos o desvio padrão populacional, usamos o amostral:</p>´\n",
    "\n",
    "<img src=\"https://image.slidesharecdn.com/12-121007061655-phpapp01/95/12-55-728.jpg?cb=1349590738\" width=500px>\n",
    "\n",
    "Onde:\n",
    "<ul>\n",
    "    <li>s : Desvio padrão amostral\n",
    "    <li>n : Tamanho da amostra\n",
    "    <li>x- : Média da amostra\n",
    "    <li>μ0 : Média populacional\n",
    "</ul>\n",
    "\n",
    "<p>Agora, note que T não terá distribuição normal como ocorria com nossa estatística de teste no caso do Z-test, porém seguimos a mesma lógica realizando o teste calculando o valor de p e comparando com o nível de significância.</p>"
   ]
  },
  {
   "cell_type": "code",
   "execution_count": null,
   "metadata": {},
   "outputs": [],
   "source": [
    "amostra = [4.5, 6.7, 4.3, 3.4, 6.3, 7.5, 5.4, 8.0, 5.8, 7.1]"
   ]
  },
  {
   "cell_type": "code",
   "execution_count": null,
   "metadata": {},
   "outputs": [],
   "source": [
    "statistic, p_value = ttest_1samp(amostra, popmean = 5.0, \n",
    "                                 alternative = \"two-sided\")"
   ]
  },
  {
   "cell_type": "code",
   "execution_count": null,
   "metadata": {},
   "outputs": [],
   "source": [
    "if p_value >= nivel_significancia:\n",
    "    print(f\"A estatística T é {round(statistic,4)}. O p-valor é {round(p_value,4)}, e não podemos rejeitar a hipótese nula\")\n",
    "else: \n",
    "    print(f\"A estatística T é {round(statistic,4)}. O p-valor é {round(p_value,4)}, e podemos rejeitar a hipótese nula\")"
   ]
  },
  {
   "cell_type": "markdown",
   "metadata": {},
   "source": [
    "<h3> Anova </h3>\n",
    "\n",
    "<p> Anova é uma técnica estatística utilizada para comparar as médias de três ou mais grupos e determinar se essas diferenças são estatisticamente significativas. Ele é amplamente usado em pesquisas para testar hipóteses sobre as médias de diferentes populações. <br>\n",
    "Podemos entender a intuição por trás do ANOVA pensando sobre o problema que ele quer resolver </p>\n",
    "<p> Para testar a hipótese de K grupos, uma abordagem seria usar t-tests para cada par de grupos. Porém, isso seria ineficiente e aumentaria a chance de erros tipo I. O ANOVA resolve esse problema utilizando uma estatística de teste chamada F. </p>\n",
    "\n",
    "<p style=text-align:center;><em>F = (variação entre os grupos)/(variação dentro dos grupos).</em></p>\n",
    "\n",
    "<p> O ANOVA divide a variação total dos dados em duas partes: variação entre os grupos e variação dentro dos grupos. Se a estatística F for alta, a variação entre os grupos é mais significativa, indicando que as médias provavelmente não são iguais. Em contraste, uma estatística F baixa sugere que a variação dentro dos grupos é mais significativa, indicando que as médias são provavelmente iguais.</p>"
   ]
  },
  {
   "cell_type": "code",
   "execution_count": null,
   "metadata": {},
   "outputs": [],
   "source": [
    "brasil = [3.0, 4.9, 3.4, 4.5, 4.4, 4.3]\n",
    "africa_do_sul = [4.5, 4.5, 2.9, 4.3, 4.1, 3.2]\n",
    "australia = [4.3, 3.9, 3.6, 2.8, 3.1, 4.0]\n",
    "portugal = [3.2, 2.4, 2.7, 3.8, 3.9, 3.5]\n",
    "indonesia = [3.9, 3.4, 3.6, 4.1, 4.5, 2.7]"
   ]
  },
  {
   "cell_type": "code",
   "execution_count": null,
   "metadata": {},
   "outputs": [],
   "source": [
    "fstat, pvalue = f_oneway(brasil, africa_do_sul, australia, portugal, indonesia)"
   ]
  },
  {
   "cell_type": "code",
   "execution_count": null,
   "metadata": {},
   "outputs": [],
   "source": [
    "if nivel_significancia <= pvalue:\n",
    "    print(f\"A estatística F é {round(fstat,4)}, o valor-p é {round(pvalue,4)} e não podemos rejeitar a hipótese nula\")\n",
    "else: \n",
    "    print(f\"A estatística F é {round(fstat,4)}, o valor-p é {round(pvalue,4)} e podemos rejeitar a hipótese nula\")"
   ]
  }
 ],
 "metadata": {
  "kernelspec": {
   "display_name": ".venv",
   "language": "python",
   "name": "python3"
  },
  "language_info": {
   "codemirror_mode": {
    "name": "ipython",
    "version": 3
   },
   "file_extension": ".py",
   "mimetype": "text/x-python",
   "name": "python",
   "nbconvert_exporter": "python",
   "pygments_lexer": "ipython3",
   "version": "3.10.12"
  }
 },
 "nbformat": 4,
 "nbformat_minor": 2
}
